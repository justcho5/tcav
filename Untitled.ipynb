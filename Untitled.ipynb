{
 "cells": [
  {
   "cell_type": "markdown",
   "metadata": {},
   "source": [
    "# Make tensorflow pb graph"
   ]
  },
  {
   "cell_type": "code",
   "execution_count": null,
   "metadata": {},
   "outputs": [],
   "source": [
    "import tensorflow as tf\n",
    "from tensorflow.python.framework import graph_io\n",
    "from tensorflow.keras.applications.inception_v3 import InceptionV3\n",
    "\n",
    "\n",
    "def freeze_graph(graph, session, output):\n",
    "    with graph.as_default():\n",
    "        graphdef_inf = tf.graph_util.remove_training_nodes(graph.as_graph_def())\n",
    "        graphdef_frozen = tf.graph_util.convert_variables_to_constants(session, graphdef_inf, output)\n",
    "        graph_io.write_graph(graphdef_frozen, \".\", \"xception_hpv.pb\", as_text=False)"
   ]
  },
  {
   "cell_type": "code",
   "execution_count": null,
   "metadata": {},
   "outputs": [],
   "source": [
    "tf.keras.backend.set_learning_phase(0) # this line most important\n",
    "\n",
    "# base_model = tf.keras.applications.InceptionV3(input_shape=(299, 299, 3),\n",
    "#                                                include_top=True,\n",
    "#                                                weights='imagenet')\n",
    "# base_model.compile(loss='sparse_categorical_crossentropy',\n",
    "#                 optimizer=tf.keras.optimizers.Adam())\n",
    "keras_model_path = \"/Users/justina/Documents/EPFL/thesis/projects/hnsc/trained_model.h5\"\n",
    "\n",
    "base_model = tf.keras.models.load_model(keras_model_path, compile=False)\n",
    "base_model.compile(loss='sparse_categorical_crossentropy',\n",
    "                optimizer=tf.keras.optimizers.Adam())\n",
    "session = tf.keras.backend.get_session()\n",
    "\n",
    "INPUT_NODE = base_model.inputs[0].op.name\n",
    "OUTPUT_NODE = base_model.outputs[0].op.name\n",
    "freeze_graph(session.graph, session, [out.op.name for out in base_model.outputs])"
   ]
  },
  {
   "cell_type": "code",
   "execution_count": null,
   "metadata": {},
   "outputs": [],
   "source": [
    "tf.keras.backend.set_learning_phase(0) # this line most important\n",
    "\n",
    "# base_model = tf.keras.applications.InceptionV3(input_shape=(299, 299, 3),\n",
    "#                                                include_top=True,\n",
    "#                                                weights='imagenet')\n",
    "# base_model.compile(loss='sparse_categorical_crossentropy',\n",
    "#                 optimizer=tf.keras.optimizers.Adam())\n",
    "# keras_model_path = \"/Users/justina/Documents/EPFL/thesis/projects/hnsc/trained_model.h5\"\n",
    "\n",
    "# base_model = tf.keras.models.load_model(keras_model_path, compile=False)\n",
    "# base_model.compile(loss='sparse_categorical_crossentropy',\n",
    "#                 optimizer=tf.keras.optimizers.Adam())\n",
    "# session = tf.keras.backend.get_session()\n",
    "\n",
    "INPUT_NODE = base_model.inputs[0].op.name\n",
    "OUTPUT_NODE = base_model.outputs[0].op.name\n",
    "freeze_graph(session.graph, session, [out.op.name for out in base_model.outputs])"
   ]
  },
  {
   "cell_type": "code",
   "execution_count": 4,
   "metadata": {},
   "outputs": [],
   "source": [
    "sess.close()\n",
    "from tensorflow.python.platform import gfile\n",
    "import tcav.utils as utils\n",
    "import tensorflow as tf\n",
    "sess = utils.create_session()\n",
    "\n",
    "with sess.graph.as_default():\n",
    "    input_graph_def = tf.GraphDef()\n",
    "    with tf.gfile.FastGFile(\"../imagenet_small_test/graphs/tensorflow_inception_graph.pb\", 'rb') as f:\n",
    "        input_graph_def.ParseFromString(f.read())\n",
    "        tf.import_graph_def(input_graph_def)\n",
    "    LOGDIR='./logs/tests/googlenet/'\n",
    "    train_writer = tf.summary.FileWriter(LOGDIR)\n",
    "    train_writer.add_graph(sess.graph)  "
   ]
  },
  {
   "cell_type": "code",
   "execution_count": null,
   "metadata": {},
   "outputs": [],
   "source": []
  }
 ],
 "metadata": {
  "kernelspec": {
   "display_name": "Python [conda env:py37_tf113]",
   "language": "python",
   "name": "conda-env-py37_tf113-py"
  },
  "language_info": {
   "codemirror_mode": {
    "name": "ipython",
    "version": 3
   },
   "file_extension": ".py",
   "mimetype": "text/x-python",
   "name": "python",
   "nbconvert_exporter": "python",
   "pygments_lexer": "ipython3",
   "version": "3.7.4"
  }
 },
 "nbformat": 4,
 "nbformat_minor": 2
}
